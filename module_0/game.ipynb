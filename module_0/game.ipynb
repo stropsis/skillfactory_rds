{
 "cells": [
  {
   "cell_type": "code",
   "execution_count": 28,
   "metadata": {},
   "outputs": [],
   "source": [
    "import numpy as np\n",
    "count = 0                            # счетчик попыток\n",
    "number = np.random.randint(1,101)    # загадали число\n",
    "\n",
    "\n",
    "def score_game(game_core):\n",
    "    '''Запускаем игру 1000 раз, чтобы узнать, как быстро игра угадывает число'''\n",
    "    count_ls = []\n",
    "    #фиксируем RANDOM SEED, чтобы мой эксперимент был воспроизводим\n",
    "    np.random.seed(1)\n",
    "    random_array = np.random.randint(1,101, size=(1000))\n",
    "    for number in random_array:\n",
    "        count_ls.append(game_core(number))\n",
    "    score = int(np.mean(count_ls))\n",
    "    \n",
    "    return(print(f'Мой алгоритм угадывает число в среднем за {score} попыток'))\n",
    "\n",
    "\n",
    "def game_algorithm(number):\n",
    "    \"\"\"Функция угадывает число на основе кратчайшего алгоритма.\n",
    "       Алгоритм средних велечин.\"\"\"\n",
    "    predict = 0\n",
    "    algorithm = {1:50, 2:25, 3:13, 4:7, 5:4, 6:2, 7:1}\n",
    "    for count in algorithm.keys():\n",
    "        if number > predict:\n",
    "            predict += algorithm[count]\n",
    "        elif number < predict:\n",
    "            predict -= algorithm[count]\n",
    "        if number == predict:\n",
    "            \n",
    "            return(count)"
   ]
  },
  {
   "cell_type": "code",
   "execution_count": 29,
   "metadata": {},
   "outputs": [
    {
     "name": "stdout",
     "output_type": "stream",
     "text": [
      "Мой алгоритм угадывает число в среднем за 5 попыток\n"
     ]
    }
   ],
   "source": [
    "score_game(game_algorithm)"
   ]
  }
 ],
 "metadata": {
  "kernelspec": {
   "display_name": "Python 3",
   "language": "python",
   "name": "python3"
  },
  "language_info": {
   "codemirror_mode": {
    "name": "ipython",
    "version": 3
   },
   "file_extension": ".py",
   "mimetype": "text/x-python",
   "name": "python",
   "nbconvert_exporter": "python",
   "pygments_lexer": "ipython3",
   "version": "3.8.3"
  }
 },
 "nbformat": 4,
 "nbformat_minor": 4
}
